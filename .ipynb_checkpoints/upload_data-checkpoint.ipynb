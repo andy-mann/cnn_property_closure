{
 "cells": [
  {
   "cell_type": "code",
   "execution_count": 1,
   "id": "0a1b569c",
   "metadata": {},
   "outputs": [],
   "source": [
    "from cordra import CordraClient, Dataset, CordraObject\n",
    "import json\n",
    "from fastjsonschema import JsonSchemaValueException\n",
    "import numpy as np\n",
    "from io import BytesIO"
   ]
  },
  {
   "cell_type": "code",
   "execution_count": 2,
   "id": "f5863843",
   "metadata": {},
   "outputs": [],
   "source": [
    "host = 'https://dev.materialhub.org/'\n",
    "creds = 'credentials.json'\n",
    "\n",
    "materialhub = CordraClient(host=host, credentials_file=creds, verify=False)\n",
    "\n",
    "m = np.load('m.npy')\n",
    "p = np.load('p.npy')"
   ]
  },
  {
   "cell_type": "code",
   "execution_count": 3,
   "id": "4723c925",
   "metadata": {},
   "outputs": [
    {
     "data": {
      "text/plain": [
       "{'@context': ['http://schema.org/docs/jsonldcontext.json',\n",
       "  'https://materialhub.org/devdocs/matContext.jsonld'],\n",
       " '@type': 'Person',\n",
       " '@id': 'prefix/68e2d0b811a8274e0ffc',\n",
       " 'username': 'amann37',\n",
       " 'password': '',\n",
       " 'id': ''}"
      ]
     },
     "execution_count": 3,
     "metadata": {},
     "output_type": "execute_result"
    }
   ],
   "source": [
    "r = materialhub.find('/username:amann37')\n",
    "\n",
    "me = r['results'][0]\n",
    "my_id = me['@id']\n",
    "me"
   ]
  },
  {
   "cell_type": "code",
   "execution_count": 4,
   "id": "28aa38af",
   "metadata": {},
   "outputs": [
    {
     "name": "stdout",
     "output_type": "stream",
     "text": [
      "dict_keys(['id', 'type', 'content', 'metadata'])\n",
      "dict_keys(['id', 'type', 'content', 'metadata'])\n",
      "dict_keys(['id', 'type', 'content', 'metadata'])\n",
      "dict_keys(['id', 'type', 'content', 'metadata'])\n",
      "dict_keys(['id', 'type', 'content', 'metadata'])\n",
      "dict_keys(['id', 'type', 'content', 'metadata'])\n",
      "dict_keys(['id', 'type', 'content', 'metadata', 'payloads'])\n",
      "dict_keys(['id', 'type', 'content', 'metadata'])\n",
      "dict_keys(['id', 'type', 'content', 'metadata'])\n",
      "dict_keys(['id', 'type', 'content', 'metadata'])\n",
      "dict_keys(['id', 'type', 'content', 'metadata'])\n",
      "dict_keys(['id', 'type', 'content', 'metadata'])\n",
      "dict_keys(['id', 'type', 'content', 'metadata'])\n",
      "dict_keys(['id', 'type', 'content', 'metadata'])\n",
      "dict_keys(['id', 'type', 'content', 'metadata'])\n",
      "dict_keys(['id', 'type', 'content', 'metadata'])\n",
      "dict_keys(['id', 'type', 'content', 'metadata'])\n",
      "dict_keys(['id', 'type', 'content', 'metadata'])\n",
      "dict_keys(['id', 'type', 'content', 'metadata'])\n",
      "dict_keys(['id', 'type', 'content', 'metadata'])\n",
      "dict_keys(['id', 'type', 'content', 'metadata'])\n",
      "dict_keys(['id', 'type', 'content', 'metadata'])\n",
      "dict_keys(['id', 'type', 'content', 'metadata'])\n",
      "dict_keys(['id', 'type', 'content', 'metadata'])\n",
      "dict_keys(['id', 'type', 'content', 'metadata'])\n",
      "dict_keys(['id', 'type', 'content', 'metadata'])\n",
      "dict_keys(['id', 'type', 'content', 'metadata'])\n",
      "dict_keys(['id', 'type', 'content', 'metadata'])\n",
      "dict_keys(['id', 'type', 'content', 'metadata'])\n",
      "dict_keys(['id', 'type', 'content', 'metadata'])\n",
      "dict_keys(['id', 'type', 'content', 'metadata'])\n",
      "dict_keys(['id', 'type', 'content', 'metadata'])\n",
      "dict_keys(['id', 'type', 'content', 'metadata'])\n",
      "dict_keys(['id', 'type', 'content', 'metadata'])\n",
      "dict_keys(['id', 'type', 'content', 'metadata'])\n",
      "dict_keys(['id', 'type', 'content', 'metadata'])\n",
      "dict_keys(['id', 'type', 'content', 'metadata'])\n",
      "dict_keys(['id', 'type', 'content', 'metadata'])\n",
      "dict_keys(['id', 'type', 'content', 'metadata'])\n",
      "dict_keys(['id', 'type', 'content', 'metadata'])\n",
      "dict_keys(['id', 'type', 'content', 'metadata'])\n",
      "dict_keys(['id', 'type', 'content', 'metadata'])\n",
      "dict_keys(['id', 'type', 'content', 'metadata'])\n",
      "dict_keys(['id', 'type', 'content', 'metadata'])\n",
      "dict_keys(['id', 'type', 'content', 'metadata'])\n",
      "dict_keys(['id', 'type', 'content', 'metadata'])\n",
      "dict_keys(['id', 'type', 'content', 'metadata'])\n",
      "dict_keys(['id', 'type', 'content', 'metadata'])\n",
      "dict_keys(['id', 'type', 'content', 'metadata'])\n",
      "dict_keys(['id', 'type', 'content', 'metadata'])\n",
      "dict_keys(['id', 'type', 'content', 'metadata'])\n",
      "dict_keys(['id', 'type', 'content', 'metadata'])\n",
      "dict_keys(['id', 'type', 'content', 'metadata'])\n",
      "dict_keys(['id', 'type', 'content', 'metadata'])\n",
      "dict_keys(['id', 'type', 'content', 'metadata'])\n",
      "dict_keys(['id', 'type', 'content', 'metadata'])\n",
      "dict_keys(['id', 'type', 'content', 'metadata'])\n",
      "dict_keys(['id', 'type', 'content', 'metadata'])\n",
      "dict_keys(['id', 'type', 'content', 'metadata'])\n",
      "dict_keys(['id', 'type', 'content', 'metadata'])\n",
      "dict_keys(['id', 'type', 'content', 'metadata'])\n",
      "dict_keys(['id', 'type', 'content', 'metadata'])\n",
      "dict_keys(['id', 'type', 'content', 'metadata'])\n",
      "dict_keys(['id', 'type', 'content', 'metadata'])\n",
      "dict_keys(['id', 'type', 'content', 'metadata'])\n",
      "dict_keys(['id', 'type', 'content', 'metadata'])\n",
      "dict_keys(['id', 'type', 'content', 'metadata'])\n",
      "dict_keys(['id', 'type', 'content', 'metadata'])\n",
      "dict_keys(['id', 'type', 'content', 'metadata'])\n",
      "dict_keys(['id', 'type', 'content', 'metadata'])\n",
      "dict_keys(['id', 'type', 'content', 'metadata'])\n",
      "dict_keys(['id', 'type', 'content', 'metadata'])\n",
      "dict_keys(['id', 'type', 'content', 'metadata'])\n",
      "dict_keys(['id', 'type', 'content', 'metadata'])\n",
      "dict_keys(['id', 'type', 'content', 'metadata'])\n",
      "dict_keys(['id', 'type', 'content', 'metadata'])\n",
      "dict_keys(['id', 'type', 'content', 'metadata'])\n",
      "dict_keys(['id', 'type', 'content', 'metadata'])\n",
      "dict_keys(['id', 'type', 'content', 'metadata'])\n",
      "dict_keys(['id', 'type', 'content', 'metadata'])\n",
      "dict_keys(['id', 'type', 'content', 'metadata'])\n",
      "dict_keys(['id', 'type', 'content', 'metadata'])\n",
      "dict_keys(['id', 'type', 'content', 'metadata'])\n",
      "dict_keys(['id', 'type', 'content', 'metadata'])\n",
      "dict_keys(['id', 'type', 'content', 'metadata'])\n",
      "dict_keys(['id', 'type', 'content', 'metadata'])\n",
      "dict_keys(['id', 'type', 'content', 'metadata'])\n",
      "dict_keys(['id', 'type', 'content', 'metadata'])\n",
      "dict_keys(['id', 'type', 'content', 'metadata'])\n",
      "dict_keys(['id', 'type', 'content', 'metadata'])\n",
      "dict_keys(['id', 'type', 'content', 'metadata'])\n",
      "dict_keys(['id', 'type', 'content', 'metadata'])\n",
      "dict_keys(['id', 'type', 'content', 'metadata'])\n",
      "dict_keys(['id', 'type', 'content', 'metadata'])\n",
      "dict_keys(['id', 'type', 'content', 'metadata'])\n",
      "dict_keys(['id', 'type', 'content', 'metadata'])\n",
      "dict_keys(['id', 'type', 'content', 'metadata'])\n",
      "dict_keys(['id', 'type', 'content', 'metadata'])\n",
      "dict_keys(['id', 'type', 'content', 'metadata'])\n",
      "dict_keys(['id', 'type', 'content', 'metadata'])\n",
      "dict_keys(['id', 'type', 'content', 'metadata'])\n",
      "dict_keys(['id', 'type', 'content', 'metadata'])\n",
      "dict_keys(['id', 'type', 'content', 'metadata'])\n",
      "dict_keys(['id', 'type', 'content', 'metadata'])\n",
      "dict_keys(['id', 'type', 'content', 'metadata'])\n",
      "dict_keys(['id', 'type', 'content', 'metadata'])\n",
      "dict_keys(['id', 'type', 'content', 'metadata'])\n",
      "dict_keys(['id', 'type', 'content', 'metadata'])\n",
      "dict_keys(['id', 'type', 'content', 'metadata'])\n",
      "dict_keys(['id', 'type', 'content', 'metadata'])\n",
      "dict_keys(['id', 'type', 'content', 'metadata'])\n",
      "dict_keys(['id', 'type', 'content', 'metadata'])\n",
      "dict_keys(['id', 'type', 'content', 'metadata'])\n",
      "dict_keys(['id', 'type', 'content', 'metadata'])\n",
      "dict_keys(['id', 'type', 'content', 'metadata'])\n",
      "dict_keys(['id', 'type', 'content', 'metadata'])\n",
      "dict_keys(['id', 'type', 'content', 'metadata'])\n",
      "dict_keys(['id', 'type', 'content', 'metadata'])\n",
      "dict_keys(['id', 'type', 'content', 'metadata'])\n",
      "dict_keys(['id', 'type', 'content', 'metadata'])\n",
      "dict_keys(['id', 'type', 'content', 'metadata'])\n",
      "dict_keys(['id', 'type', 'content', 'metadata'])\n",
      "dict_keys(['id', 'type', 'content', 'metadata'])\n",
      "dict_keys(['id', 'type', 'content', 'metadata'])\n",
      "dict_keys(['id', 'type', 'content', 'metadata'])\n",
      "dict_keys(['id', 'type', 'content', 'metadata'])\n",
      "dict_keys(['id', 'type', 'content', 'metadata'])\n",
      "dict_keys(['id', 'type', 'content', 'metadata'])\n",
      "dict_keys(['id', 'type', 'content', 'metadata'])\n",
      "dict_keys(['id', 'type', 'content', 'metadata'])\n",
      "dict_keys(['id', 'type', 'content', 'metadata'])\n",
      "dict_keys(['id', 'type', 'content', 'metadata'])\n",
      "dict_keys(['id', 'type', 'content', 'metadata'])\n",
      "dict_keys(['id', 'type', 'content', 'metadata'])\n",
      "dict_keys(['id', 'type', 'content', 'metadata'])\n",
      "dict_keys(['id', 'type', 'content', 'metadata'])\n",
      "dict_keys(['id', 'type', 'content', 'metadata'])\n",
      "dict_keys(['id', 'type', 'content', 'metadata'])\n",
      "dict_keys(['id', 'type', 'content', 'metadata'])\n",
      "dict_keys(['id', 'type', 'content', 'metadata'])\n",
      "dict_keys(['id', 'type', 'content', 'metadata'])\n",
      "dict_keys(['id', 'type', 'content', 'metadata'])\n",
      "dict_keys(['id', 'type', 'content', 'metadata'])\n",
      "dict_keys(['id', 'type', 'content', 'metadata'])\n",
      "dict_keys(['id', 'type', 'content', 'metadata'])\n",
      "dict_keys(['id', 'type', 'content', 'metadata'])\n",
      "dict_keys(['id', 'type', 'content', 'metadata'])\n",
      "dict_keys(['id', 'type', 'content', 'metadata'])\n",
      "dict_keys(['id', 'type', 'content', 'metadata'])\n",
      "dict_keys(['id', 'type', 'content', 'metadata'])\n",
      "dict_keys(['id', 'type', 'content', 'metadata', 'payloads'])\n",
      "dict_keys(['id', 'type', 'content', 'metadata'])\n",
      "dict_keys(['id', 'type', 'content', 'metadata'])\n",
      "dict_keys(['id', 'type', 'content', 'metadata'])\n",
      "dict_keys(['id', 'type', 'content', 'metadata'])\n",
      "dict_keys(['id', 'type', 'content', 'metadata', 'payloads'])\n",
      "dict_keys(['id', 'type', 'content', 'metadata'])\n",
      "dict_keys(['id', 'type', 'content', 'metadata'])\n",
      "dict_keys(['id', 'type', 'content', 'metadata'])\n",
      "dict_keys(['id', 'type', 'content', 'metadata'])\n",
      "dict_keys(['id', 'type', 'content', 'metadata'])\n",
      "dict_keys(['id', 'type', 'content', 'metadata'])\n",
      "dict_keys(['id', 'type', 'content', 'metadata'])\n",
      "dict_keys(['id', 'type', 'content', 'metadata'])\n",
      "dict_keys(['id', 'type', 'content', 'metadata'])\n",
      "dict_keys(['id', 'type', 'content', 'metadata'])\n",
      "dict_keys(['id', 'type', 'content', 'metadata'])\n",
      "dict_keys(['id', 'type', 'content', 'metadata'])\n",
      "dict_keys(['id', 'type', 'content', 'metadata'])\n",
      "dict_keys(['id', 'type', 'content', 'metadata'])\n",
      "dict_keys(['id', 'type', 'content', 'metadata'])\n",
      "dict_keys(['id', 'type', 'content', 'metadata'])\n",
      "dict_keys(['id', 'type', 'content', 'metadata'])\n",
      "dict_keys(['id', 'type', 'content', 'metadata'])\n",
      "dict_keys(['id', 'type', 'content', 'metadata'])\n",
      "dict_keys(['id', 'type', 'content', 'metadata'])\n",
      "dict_keys(['id', 'type', 'content', 'metadata'])\n",
      "dict_keys(['id', 'type', 'content', 'metadata'])\n",
      "dict_keys(['id', 'type', 'content', 'metadata'])\n",
      "dict_keys(['id', 'type', 'content', 'metadata'])\n",
      "dict_keys(['id', 'type', 'content', 'metadata'])\n",
      "dict_keys(['id', 'type', 'content', 'metadata'])\n",
      "dict_keys(['id', 'type', 'content', 'metadata'])\n",
      "dict_keys(['id', 'type', 'content', 'metadata'])\n",
      "dict_keys(['id', 'type', 'content', 'metadata'])\n",
      "dict_keys(['id', 'type', 'content', 'metadata'])\n",
      "dict_keys(['id', 'type', 'content', 'metadata'])\n",
      "dict_keys(['id', 'type', 'content', 'metadata', 'payloads'])\n",
      "dict_keys(['id', 'type', 'content', 'metadata'])\n",
      "dict_keys(['id', 'type', 'content', 'metadata'])\n",
      "dict_keys(['id', 'type', 'content', 'metadata'])\n",
      "dict_keys(['id', 'type', 'content', 'metadata'])\n",
      "dict_keys(['id', 'type', 'content', 'metadata'])\n",
      "dict_keys(['id', 'type', 'content', 'metadata'])\n",
      "dict_keys(['id', 'type', 'content', 'metadata'])\n",
      "dict_keys(['id', 'type', 'content', 'metadata', 'payloads'])\n",
      "dict_keys(['id', 'type', 'content', 'metadata'])\n",
      "dict_keys(['id', 'type', 'content', 'metadata'])\n",
      "dict_keys(['id', 'type', 'content', 'metadata'])\n",
      "dict_keys(['id', 'type', 'content', 'metadata'])\n",
      "dict_keys(['id', 'type', 'content', 'metadata'])\n",
      "dict_keys(['id', 'type', 'content', 'metadata'])\n",
      "dict_keys(['id', 'type', 'content', 'metadata'])\n",
      "dict_keys(['id', 'type', 'content', 'metadata'])\n",
      "dict_keys(['id', 'type', 'content', 'metadata'])\n",
      "dict_keys(['id', 'type', 'content', 'metadata'])\n",
      "dict_keys(['id', 'type', 'content', 'metadata'])\n",
      "dict_keys(['id', 'type', 'content', 'metadata'])\n",
      "dict_keys(['id', 'type', 'content', 'metadata'])\n",
      "dict_keys(['id', 'type', 'content', 'metadata'])\n",
      "dict_keys(['id', 'type', 'content', 'metadata'])\n",
      "dict_keys(['id', 'type', 'content', 'metadata'])\n",
      "dict_keys(['id', 'type', 'content', 'metadata'])\n",
      "dict_keys(['id', 'type', 'content', 'metadata'])\n",
      "dict_keys(['id', 'type', 'content', 'metadata'])\n"
     ]
    }
   ],
   "source": [
    "myObjects = materialhub.find(f'/metadata/createBy:_\"{my_id}\"', full=True)['results']\n",
    "print('\\n'.join([str(r.keys()) for r in myObjects]))"
   ]
  },
  {
   "cell_type": "code",
   "execution_count": 3,
   "id": "a6cea316",
   "metadata": {},
   "outputs": [],
   "source": [
    "dataset = Dataset(client=materialhub)\n",
    "\n",
    "ds = dataset.add('Dataset', properties={'name':'2_phase_elastic_CR50'})"
   ]
  },
  {
   "cell_type": "code",
   "execution_count": 4,
   "id": "49dd4171",
   "metadata": {},
   "outputs": [],
   "source": [
    "#defining terms for the properties\n",
    "#TODO add definitions and more specifics\n",
    "YM_term = dataset.add('DefinedTerm', properties={'name':'Young\\'s Modulus'})\n",
    "PR_term = dataset.add('DefinedTerm', properties={'name':'Poisson Ratio'})\n",
    "effective_property = dataset.add('DefinedTerm', properties={'name':'Effective Property'})\n",
    "broad_mat_term = dataset.add('DefinedTerm', properties={'name':'Two Phase Material'})\n",
    "\n",
    "#defining the material properties by using the DF, values, and units\n",
    "m1_ym = dataset.add('MaterialProperty', properties={'PropertyID':YM_term, 'name':YM_term.properties['name'], 'value':'120'})\n",
    "m1_pr = dataset.add('MaterialProperty', properties={'PropertyID':PR_term, 'name':PR_term.properties['name'], 'value':'0.3'})\n",
    "                                                                          \n",
    "m2_ym = dataset.add('MaterialProperty', properties={'PropertyID':YM_term, 'name':YM_term.properties['name'], 'value':'6,000'})\n",
    "m2_pr = dataset.add('MaterialProperty', properties={'PropertyID':PR_term, 'name':PR_term.properties['name'], 'value':'0.3'})"
   ]
  },
  {
   "cell_type": "code",
   "execution_count": 5,
   "id": "55457c6b",
   "metadata": {},
   "outputs": [],
   "source": [
    "mat1 = dataset.add('Material', properties={'name':'Low Stiffness Material', 'about':[m1_ym.properties['@id'], m1_pr.properties['@id']]})\n",
    "mat2 = dataset.add('Material', properties={'name':'High Stiffness Material', 'about':[m2_ym.properties['@id'], m2_pr.properties['@id']]})"
   ]
  },
  {
   "cell_type": "code",
   "execution_count": 6,
   "id": "2b39e6cc",
   "metadata": {},
   "outputs": [],
   "source": [
    "broad_material = dataset.add('Material', properties={'PropertyID':broad_mat_term,'name':'2 Phase Material', 'about':[mat1.properties['@id'], mat2.properties['@id']]})"
   ]
  },
  {
   "cell_type": "code",
   "execution_count": 42,
   "id": "4dc4a0aa",
   "metadata": {},
   "outputs": [
    {
     "name": "stdout",
     "output_type": "stream",
     "text": [
      "{'error': 'invalid_token', 'message': 'Invalid token'}\n"
     ]
    },
    {
     "ename": "HTTPError",
     "evalue": "401 Client Error: Unauthorized for url: https://dev.materialhub.org/objects/?type=MaterialProperty&suffix=2a59be39-acbd-43f4-ac9b-10071e2cb9bd",
     "output_type": "error",
     "traceback": [
      "\u001b[0;31m---------------------------------------------------------------------------\u001b[0m",
      "\u001b[0;31mHTTPError\u001b[0m                                 Traceback (most recent call last)",
      "\u001b[0;32m<ipython-input-42-220d2cb7d605>\u001b[0m in \u001b[0;36m<module>\u001b[0;34m\u001b[0m\n\u001b[1;32m      1\u001b[0m \u001b[0mval\u001b[0m \u001b[0;34m=\u001b[0m \u001b[0;36m1\u001b[0m\u001b[0;34m/\u001b[0m\u001b[0;36m10\u001b[0m\u001b[0;34m\u001b[0m\u001b[0;34m\u001b[0m\u001b[0m\n\u001b[0;32m----> 2\u001b[0;31m \u001b[0meff_prop\u001b[0m \u001b[0;34m=\u001b[0m \u001b[0mdataset\u001b[0m\u001b[0;34m.\u001b[0m\u001b[0madd\u001b[0m\u001b[0;34m(\u001b[0m\u001b[0;34m'MaterialProperty'\u001b[0m\u001b[0;34m,\u001b[0m \u001b[0mproperties\u001b[0m\u001b[0;34m=\u001b[0m\u001b[0;34m{\u001b[0m\u001b[0;34m'PropertyID'\u001b[0m\u001b[0;34m:\u001b[0m\u001b[0meffective_property\u001b[0m\u001b[0;34m,\u001b[0m \u001b[0;34m'name'\u001b[0m\u001b[0;34m:\u001b[0m\u001b[0meffective_property\u001b[0m\u001b[0;34m.\u001b[0m\u001b[0mproperties\u001b[0m\u001b[0;34m[\u001b[0m\u001b[0;34m'name'\u001b[0m\u001b[0;34m]\u001b[0m\u001b[0;34m+\u001b[0m\u001b[0;34mf'={val}'\u001b[0m\u001b[0;34m,\u001b[0m \u001b[0;34m'value'\u001b[0m\u001b[0;34m:\u001b[0m\u001b[0;34mf'{val}'\u001b[0m\u001b[0;34m}\u001b[0m\u001b[0;34m)\u001b[0m\u001b[0;34m\u001b[0m\u001b[0;34m\u001b[0m\u001b[0m\n\u001b[0m\u001b[1;32m      3\u001b[0m \u001b[0mnarrow_mat_term\u001b[0m \u001b[0;34m=\u001b[0m \u001b[0mdataset\u001b[0m\u001b[0;34m.\u001b[0m\u001b[0madd\u001b[0m\u001b[0;34m(\u001b[0m\u001b[0;34m'DefinedTerm'\u001b[0m\u001b[0;34m,\u001b[0m \u001b[0mproperties\u001b[0m\u001b[0;34m=\u001b[0m\u001b[0;34m{\u001b[0m\u001b[0;34m'name'\u001b[0m\u001b[0;34m:\u001b[0m\u001b[0;34mf'Two Phase - Effective stiffness: {val}'\u001b[0m\u001b[0;34m,\u001b[0m \u001b[0;34m'broader'\u001b[0m\u001b[0;34m:\u001b[0m\u001b[0;34m[\u001b[0m\u001b[0mbroad_mat_term\u001b[0m\u001b[0;34m.\u001b[0m\u001b[0mproperties\u001b[0m\u001b[0;34m[\u001b[0m\u001b[0;34m'@id'\u001b[0m\u001b[0;34m]\u001b[0m\u001b[0;34m]\u001b[0m\u001b[0;34m}\u001b[0m\u001b[0;34m)\u001b[0m\u001b[0;34m\u001b[0m\u001b[0;34m\u001b[0m\u001b[0m\n\u001b[1;32m      4\u001b[0m \u001b[0;34m\u001b[0m\u001b[0m\n\u001b[1;32m      5\u001b[0m \u001b[0mnarrow_material\u001b[0m \u001b[0;34m=\u001b[0m \u001b[0mdataset\u001b[0m\u001b[0;34m.\u001b[0m\u001b[0madd\u001b[0m\u001b[0;34m(\u001b[0m\u001b[0;34m'Material'\u001b[0m\u001b[0;34m,\u001b[0m \u001b[0mproperties\u001b[0m\u001b[0;34m=\u001b[0m\u001b[0;34m{\u001b[0m\u001b[0;34m'PropertyID'\u001b[0m\u001b[0;34m:\u001b[0m\u001b[0mnarrow_mat_term\u001b[0m\u001b[0;34m,\u001b[0m \u001b[0;34m'name'\u001b[0m\u001b[0;34m:\u001b[0m\u001b[0mnarrow_mat_term\u001b[0m\u001b[0;34m.\u001b[0m\u001b[0mproperties\u001b[0m\u001b[0;34m[\u001b[0m\u001b[0;34m'name'\u001b[0m\u001b[0;34m]\u001b[0m\u001b[0;34m,\u001b[0m \u001b[0;34m'about'\u001b[0m\u001b[0;34m:\u001b[0m\u001b[0;34m[\u001b[0m\u001b[0mmat1\u001b[0m\u001b[0;34m.\u001b[0m\u001b[0mproperties\u001b[0m\u001b[0;34m[\u001b[0m\u001b[0;34m'@id'\u001b[0m\u001b[0;34m]\u001b[0m\u001b[0;34m,\u001b[0m \u001b[0mmat2\u001b[0m\u001b[0;34m.\u001b[0m\u001b[0mproperties\u001b[0m\u001b[0;34m[\u001b[0m\u001b[0;34m'@id'\u001b[0m\u001b[0;34m]\u001b[0m\u001b[0;34m,\u001b[0m \u001b[0meff_prop\u001b[0m\u001b[0;34m.\u001b[0m\u001b[0mproperties\u001b[0m\u001b[0;34m[\u001b[0m\u001b[0;34m'@id'\u001b[0m\u001b[0;34m]\u001b[0m\u001b[0;34m]\u001b[0m\u001b[0;34m}\u001b[0m\u001b[0;34m)\u001b[0m\u001b[0;34m\u001b[0m\u001b[0;34m\u001b[0m\u001b[0m\n",
      "\u001b[0;32m/opt/anaconda3/envs/mat_inf/lib/python3.9/site-packages/cordra/dataset.py\u001b[0m in \u001b[0;36madd\u001b[0;34m(self, name, properties, payloads)\u001b[0m\n\u001b[1;32m     44\u001b[0m             \u001b[0;32mraise\u001b[0m \u001b[0mKeyError\u001b[0m\u001b[0;34m(\u001b[0m\u001b[0;34m\"Object id already used for another object in dataset!\"\u001b[0m\u001b[0;34m)\u001b[0m\u001b[0;34m\u001b[0m\u001b[0;34m\u001b[0m\u001b[0m\n\u001b[1;32m     45\u001b[0m \u001b[0;34m\u001b[0m\u001b[0m\n\u001b[0;32m---> 46\u001b[0;31m         r = self.client.create(\n\u001b[0m\u001b[1;32m     47\u001b[0m             \u001b[0mobj\u001b[0m\u001b[0;34m.\u001b[0m\u001b[0mas_dict\u001b[0m\u001b[0;34m(\u001b[0m\u001b[0;34m)\u001b[0m\u001b[0;34m,\u001b[0m \u001b[0mname\u001b[0m\u001b[0;34m,\u001b[0m \u001b[0mpayloads\u001b[0m\u001b[0;34m=\u001b[0m\u001b[0mobj\u001b[0m\u001b[0;34m.\u001b[0m\u001b[0mpayloads\u001b[0m\u001b[0;34m,\u001b[0m\u001b[0;34m\u001b[0m\u001b[0;34m\u001b[0m\u001b[0m\n\u001b[1;32m     48\u001b[0m             \u001b[0mprefix\u001b[0m\u001b[0;34m=\u001b[0m\u001b[0mprefix\u001b[0m\u001b[0;34m,\u001b[0m \u001b[0msuffix\u001b[0m\u001b[0;34m=\u001b[0m\u001b[0msuffix\u001b[0m\u001b[0;34m\u001b[0m\u001b[0;34m\u001b[0m\u001b[0m\n",
      "\u001b[0;32m/opt/anaconda3/envs/mat_inf/lib/python3.9/site-packages/cordra/cordraClient.py\u001b[0m in \u001b[0;36mcreate\u001b[0;34m(self, obj, obj_type, **kwargs)\u001b[0m\n\u001b[1;32m    113\u001b[0m         \u001b[0mparams\u001b[0m\u001b[0;34m.\u001b[0m\u001b[0mupdate\u001b[0m\u001b[0;34m(\u001b[0m\u001b[0mkwargs\u001b[0m\u001b[0;34m)\u001b[0m\u001b[0;34m\u001b[0m\u001b[0;34m\u001b[0m\u001b[0m\n\u001b[1;32m    114\u001b[0m \u001b[0;34m\u001b[0m\u001b[0m\n\u001b[0;32m--> 115\u001b[0;31m         \u001b[0;32mreturn\u001b[0m \u001b[0mcreate_object\u001b[0m\u001b[0;34m(\u001b[0m\u001b[0mobj_json\u001b[0m\u001b[0;34m=\u001b[0m\u001b[0mobj\u001b[0m\u001b[0;34m,\u001b[0m \u001b[0mobj_type\u001b[0m\u001b[0;34m=\u001b[0m\u001b[0mobj_type\u001b[0m\u001b[0;34m,\u001b[0m \u001b[0;34m**\u001b[0m\u001b[0mparams\u001b[0m\u001b[0;34m)\u001b[0m\u001b[0;34m\u001b[0m\u001b[0;34m\u001b[0m\u001b[0m\n\u001b[0m\u001b[1;32m    116\u001b[0m \u001b[0;34m\u001b[0m\u001b[0m\n\u001b[1;32m    117\u001b[0m \u001b[0;34m\u001b[0m\u001b[0m\n",
      "\u001b[0;32m/opt/anaconda3/envs/mat_inf/lib/python3.9/site-packages/cordra/cordraMethods.py\u001b[0m in \u001b[0;36mcreate_object\u001b[0;34m(host, obj_json, obj_type, handle, suffix, dryRun, username, password, token, verify, full, payloads, acls, **kwargs)\u001b[0m\n\u001b[1;32m    114\u001b[0m         \u001b[0;32mif\u001b[0m \u001b[0macls\u001b[0m\u001b[0;34m:\u001b[0m\u001b[0;34m\u001b[0m\u001b[0;34m\u001b[0m\u001b[0m\n\u001b[1;32m    115\u001b[0m             \u001b[0mparams\u001b[0m\u001b[0;34m[\u001b[0m\u001b[0;34m'full'\u001b[0m\u001b[0;34m]\u001b[0m \u001b[0;34m=\u001b[0m \u001b[0;32mTrue\u001b[0m\u001b[0;34m\u001b[0m\u001b[0;34m\u001b[0m\u001b[0m\n\u001b[0;32m--> 116\u001b[0;31m         obj_r = check_response(\n\u001b[0m\u001b[1;32m    117\u001b[0m             requests.post(\n\u001b[1;32m    118\u001b[0m                 \u001b[0mendpoint_url\u001b[0m\u001b[0;34m(\u001b[0m\u001b[0mhost\u001b[0m\u001b[0;34m,\u001b[0m \u001b[0mobjects_endpoint\u001b[0m\u001b[0;34m)\u001b[0m\u001b[0;34m,\u001b[0m\u001b[0;34m\u001b[0m\u001b[0;34m\u001b[0m\u001b[0m\n",
      "\u001b[0;32m/opt/anaconda3/envs/mat_inf/lib/python3.9/site-packages/cordra/cordraMethods.py\u001b[0m in \u001b[0;36mcheck_response\u001b[0;34m(response)\u001b[0m\n\u001b[1;32m     29\u001b[0m         \u001b[0;32mexcept\u001b[0m \u001b[0mBaseException\u001b[0m\u001b[0;34m:\u001b[0m\u001b[0;34m\u001b[0m\u001b[0;34m\u001b[0m\u001b[0m\n\u001b[1;32m     30\u001b[0m             \u001b[0mprint\u001b[0m\u001b[0;34m(\u001b[0m\u001b[0mresponse\u001b[0m\u001b[0;34m.\u001b[0m\u001b[0mtext\u001b[0m\u001b[0;34m)\u001b[0m\u001b[0;34m\u001b[0m\u001b[0;34m\u001b[0m\u001b[0m\n\u001b[0;32m---> 31\u001b[0;31m         \u001b[0mresponse\u001b[0m\u001b[0;34m.\u001b[0m\u001b[0mraise_for_status\u001b[0m\u001b[0;34m(\u001b[0m\u001b[0;34m)\u001b[0m\u001b[0;34m\u001b[0m\u001b[0;34m\u001b[0m\u001b[0m\n\u001b[0m\u001b[1;32m     32\u001b[0m         \u001b[0;32mreturn\u001b[0m \u001b[0;32mNone\u001b[0m\u001b[0;34m\u001b[0m\u001b[0;34m\u001b[0m\u001b[0m\n\u001b[1;32m     33\u001b[0m     \u001b[0;32melse\u001b[0m\u001b[0;34m:\u001b[0m\u001b[0;34m\u001b[0m\u001b[0;34m\u001b[0m\u001b[0m\n",
      "\u001b[0;32m/opt/anaconda3/envs/mat_inf/lib/python3.9/site-packages/requests/models.py\u001b[0m in \u001b[0;36mraise_for_status\u001b[0;34m(self)\u001b[0m\n\u001b[1;32m    938\u001b[0m \u001b[0;34m\u001b[0m\u001b[0m\n\u001b[1;32m    939\u001b[0m         \u001b[0;32mif\u001b[0m \u001b[0mhttp_error_msg\u001b[0m\u001b[0;34m:\u001b[0m\u001b[0;34m\u001b[0m\u001b[0;34m\u001b[0m\u001b[0m\n\u001b[0;32m--> 940\u001b[0;31m             \u001b[0;32mraise\u001b[0m \u001b[0mHTTPError\u001b[0m\u001b[0;34m(\u001b[0m\u001b[0mhttp_error_msg\u001b[0m\u001b[0;34m,\u001b[0m \u001b[0mresponse\u001b[0m\u001b[0;34m=\u001b[0m\u001b[0mself\u001b[0m\u001b[0;34m)\u001b[0m\u001b[0;34m\u001b[0m\u001b[0;34m\u001b[0m\u001b[0m\n\u001b[0m\u001b[1;32m    941\u001b[0m \u001b[0;34m\u001b[0m\u001b[0m\n\u001b[1;32m    942\u001b[0m     \u001b[0;32mdef\u001b[0m \u001b[0mclose\u001b[0m\u001b[0;34m(\u001b[0m\u001b[0mself\u001b[0m\u001b[0;34m)\u001b[0m\u001b[0;34m:\u001b[0m\u001b[0;34m\u001b[0m\u001b[0;34m\u001b[0m\u001b[0m\n",
      "\u001b[0;31mHTTPError\u001b[0m: 401 Client Error: Unauthorized for url: https://dev.materialhub.org/objects/?type=MaterialProperty&suffix=2a59be39-acbd-43f4-ac9b-10071e2cb9bd"
     ]
    }
   ],
   "source": [
    "val = 1/10\n",
    "eff_prop = dataset.add('MaterialProperty', properties={'PropertyID':effective_property, 'name':effective_property.properties['name']+f'={val}', 'value':f'{val}'})\n",
    "narrow_mat_term = dataset.add('DefinedTerm', properties={'name':f'Two Phase - Effective stiffness: {val}', 'broader':[broad_mat_term.properties['@id']]})\n",
    "                                                       \n",
    "narrow_material = dataset.add('Material', properties={'PropertyID':narrow_mat_term, 'name':narrow_mat_term.properties['name'], 'about':[mat1.properties['@id'], mat2.properties['@id'], eff_prop.properties['@id']]})"
   ]
  },
  {
   "cell_type": "code",
   "execution_count": 41,
   "id": "6df5251e",
   "metadata": {},
   "outputs": [
    {
     "data": {
      "text/plain": [
       "{'@context': ['http://schema.org/docs/jsonldcontext.json',\n",
       "  'https://materialhub.org/devdocs/matContext.jsonld'],\n",
       " '@type': ['CreativeWork', 'mat:Material'],\n",
       " 'PropertyID': <cordra.dataset.DefinedTerm at 0x7f9e419976d0>,\n",
       " 'name': 'Two Phase - Effective stiffness: 0.1',\n",
       " 'about': ['prefix/ee2159b0-d1ba-4347-9082-59718cf0166d',\n",
       "  'prefix/cc2e73ef-b0ad-402a-8392-a3cd03ef7477'],\n",
       " '@id': 'prefix/8d289992-fe99-4629-ad17-5aeee226efaf'}"
      ]
     },
     "execution_count": 41,
     "metadata": {},
     "output_type": "execute_result"
    }
   ],
   "source": [
    "narrow_material.properties"
   ]
  },
  {
   "cell_type": "code",
   "execution_count": 8,
   "id": "a494a5b8",
   "metadata": {},
   "outputs": [],
   "source": [
    "structure = dataset.add('MaterialStructure', properties={'name':'test structure','material':[broad_material.properties['@id'], narrow_material.properties['@id']]}, payloads={'structure':BytesIO(m).getvalue()})"
   ]
  },
  {
   "cell_type": "code",
   "execution_count": 11,
   "id": "eec514e5",
   "metadata": {},
   "outputs": [],
   "source": [
    "stress_field = dataset.add('DefinedTerm', properties={'name':'Stress_Field', 'description':'An array of stress states in each voxel of your domain'})\n",
    "strain_field = dataset.add('DefinedTerm', properties={'name':'Strain_Field'})\n",
    "\n",
    "stress_result = dataset.add('MaterialProperty', properties={'propertpyID':stress_field, 'material':[broad_material.properties['@id'], narrow_material.properties['@id']]}, payloads={'value':BytesIO(p).getvalue()})\n",
    "strain_result = dataset.add('MaterialProperty', properties={'propertpyID':strain_field, 'material':[broad_material.properties['@id'], narrow_material.properties['@id']]}, payloads={'value':BytesIO(p).getvalue()})"
   ]
  },
  {
   "cell_type": "code",
   "execution_count": 13,
   "id": "35e6f748",
   "metadata": {},
   "outputs": [],
   "source": [
    "#define abaqus\n",
    "abaqus_term = dataset.add('DefinedTerm', properties={'name':'abaqus', 'description':'Finite Element Solver'})\n",
    "abaqus = dataset.add('SoftwareApplication', properties={'propertyID':abaqus_term})\n",
    "\n",
    "\n",
    "fem = dataset.add('Action', properties={'agent':[abaqus.properties['@id']], 'object':[structure.properties['@id']], 'result':[stress_result.properties['@id'], strain_result.properties['@id']]})\n",
    "\n",
    "\n",
    "#define python\n",
    "python_term = dataset.add('DefinedTerm', properties={'name':'python', 'description':'programming language'})\n",
    "python = dataset.add('SoftwareApplication', properties={'propertyID':python_term})\n",
    "\n",
    "eff_stiff = dataset.add('Action', properties={'agent':[python.properties['@id']], 'object':[stress_result.properties['@id'], strain_result.properties['@id']], 'result':[narrow_material.properties['@id']] })\n",
    "\n",
    "\n",
    "\n"
   ]
  },
  {
   "cell_type": "code",
   "execution_count": 35,
   "id": "7a724b45",
   "metadata": {},
   "outputs": [],
   "source": [
    "import h5py\n",
    "import os\n",
    "\n",
    "cwd = os.getcwd()\n",
    "\n",
    "train_r = os.path.join(cwd, '..', '..', '..', 'Elastic_Localization_Data', 'cr_50_full', '31_c50_train_responses.h5')\n",
    "train_m = os.path.join(cwd, '..', '..', '..', 'Elastic_Localization_Data', 'cr_50_full', '31_c50_train_micros.h5')\n",
    "\n",
    "train_m = h5py.File(train_m)\n",
    "train_r = h5py.File(train_r)\n",
    "\n",
    "\n",
    "m = train_m['micros']\n",
    "train_stress = train_r['stress']\n",
    "train_strain = train_r['strain']\n",
    "\n",
    "avg_stress = np.sum(train_stress, axis=1) / 31**3\n",
    "avg_strain = np.sum(train_strain, axis=1) / 31**3\n",
    "\n",
    "dp = len(avg_stress)"
   ]
  },
  {
   "cell_type": "code",
   "execution_count": 37,
   "id": "abd6a7a4",
   "metadata": {},
   "outputs": [
    {
     "data": {
      "text/plain": [
       "array([ 3.32984945,  0.90224451,  0.86666594,  0.04540909, -0.08411627,\n",
       "        0.05960775])"
      ]
     },
     "execution_count": 37,
     "metadata": {},
     "output_type": "execute_result"
    }
   ],
   "source": [
    "avg_stress[0]"
   ]
  },
  {
   "cell_type": "code",
   "execution_count": 40,
   "id": "f57e3424",
   "metadata": {},
   "outputs": [
    {
     "data": {
      "text/plain": [
       "3330.0"
      ]
     },
     "execution_count": 40,
     "metadata": {},
     "output_type": "execute_result"
    }
   ],
   "source": [
    "eff_p = (avg_stress[0] / avg_strain[0])[0].round()\n",
    "eff_p"
   ]
  },
  {
   "cell_type": "code",
   "execution_count": 32,
   "id": "a374ec98",
   "metadata": {},
   "outputs": [],
   "source": [
    "\n",
    "for i in range(dp):\n",
    "    eff_p = (avg_stress / avg_strain)[:,0].round()"
   ]
  },
  {
   "cell_type": "code",
   "execution_count": 33,
   "id": "59f449c1",
   "metadata": {},
   "outputs": [
    {
     "data": {
      "text/plain": [
       "array([3330., 1963., 3292., 1175.,  180.,  573., 1932., 2797.,  182.,\n",
       "       3015.])"
      ]
     },
     "execution_count": 33,
     "metadata": {},
     "output_type": "execute_result"
    }
   ],
   "source": [
    "eff_p"
   ]
  },
  {
   "cell_type": "code",
   "execution_count": 34,
   "id": "3779db99",
   "metadata": {},
   "outputs": [
    {
     "name": "stdout",
     "output_type": "stream",
     "text": [
      "10\n"
     ]
    }
   ],
   "source": [
    "\n",
    "print(dp)"
   ]
  },
  {
   "cell_type": "code",
   "execution_count": null,
   "id": "762d28f9",
   "metadata": {},
   "outputs": [],
   "source": []
  }
 ],
 "metadata": {
  "kernelspec": {
   "display_name": "mat_inf",
   "language": "python",
   "name": "mat_inf"
  },
  "language_info": {
   "codemirror_mode": {
    "name": "ipython",
    "version": 3
   },
   "file_extension": ".py",
   "mimetype": "text/x-python",
   "name": "python",
   "nbconvert_exporter": "python",
   "pygments_lexer": "ipython3",
   "version": "3.9.6"
  }
 },
 "nbformat": 4,
 "nbformat_minor": 5
}
