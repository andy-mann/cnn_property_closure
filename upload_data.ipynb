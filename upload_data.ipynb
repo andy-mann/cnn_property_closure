{
 "cells": [
  {
   "cell_type": "code",
   "execution_count": 1,
   "id": "0a1b569c",
   "metadata": {},
   "outputs": [],
   "source": [
    "from cordra import CordraClient, Dataset, CordraObject\n",
    "import json\n",
    "from fastjsonschema import JsonSchemaValueException\n",
    "import numpy as np\n",
    "from io import BytesIO"
   ]
  },
  {
   "cell_type": "code",
   "execution_count": 44,
   "id": "f5863843",
   "metadata": {},
   "outputs": [],
   "source": [
    "host = 'https://dev.materialhub.org/'\n",
    "creds = 'credentials.json'\n",
    "\n",
    "materialhub = CordraClient(host=host, credentials_file=creds, verify=False)\n",
    "\n",
    "m = np.load('m.npy')\n",
    "p = np.load('p.npy')"
   ]
  },
  {
   "cell_type": "code",
   "execution_count": 3,
   "id": "4723c925",
   "metadata": {},
   "outputs": [
    {
     "data": {
      "text/plain": [
       "{'@context': ['http://schema.org/docs/jsonldcontext.json',\n",
       "  'https://materialhub.org/devdocs/matContext.jsonld'],\n",
       " '@type': 'Person',\n",
       " '@id': 'prefix/68e2d0b811a8274e0ffc',\n",
       " 'username': 'amann37',\n",
       " 'password': '',\n",
       " 'id': ''}"
      ]
     },
     "execution_count": 3,
     "metadata": {},
     "output_type": "execute_result"
    }
   ],
   "source": [
    "r = materialhub.find('/username:amann37')\n",
    "\n",
    "me = r['results'][0]\n",
    "my_id = me['@id']\n",
    "me"
   ]
  },
  {
   "cell_type": "code",
   "execution_count": 4,
   "id": "28aa38af",
   "metadata": {},
   "outputs": [
    {
     "name": "stdout",
     "output_type": "stream",
     "text": [
      "dict_keys(['id', 'type', 'content', 'metadata'])\n",
      "dict_keys(['id', 'type', 'content', 'metadata'])\n",
      "dict_keys(['id', 'type', 'content', 'metadata'])\n",
      "dict_keys(['id', 'type', 'content', 'metadata'])\n",
      "dict_keys(['id', 'type', 'content', 'metadata'])\n",
      "dict_keys(['id', 'type', 'content', 'metadata'])\n",
      "dict_keys(['id', 'type', 'content', 'metadata', 'payloads'])\n",
      "dict_keys(['id', 'type', 'content', 'metadata'])\n",
      "dict_keys(['id', 'type', 'content', 'metadata'])\n",
      "dict_keys(['id', 'type', 'content', 'metadata'])\n",
      "dict_keys(['id', 'type', 'content', 'metadata'])\n",
      "dict_keys(['id', 'type', 'content', 'metadata'])\n",
      "dict_keys(['id', 'type', 'content', 'metadata'])\n",
      "dict_keys(['id', 'type', 'content', 'metadata'])\n",
      "dict_keys(['id', 'type', 'content', 'metadata'])\n",
      "dict_keys(['id', 'type', 'content', 'metadata'])\n",
      "dict_keys(['id', 'type', 'content', 'metadata'])\n",
      "dict_keys(['id', 'type', 'content', 'metadata'])\n",
      "dict_keys(['id', 'type', 'content', 'metadata'])\n",
      "dict_keys(['id', 'type', 'content', 'metadata'])\n",
      "dict_keys(['id', 'type', 'content', 'metadata'])\n",
      "dict_keys(['id', 'type', 'content', 'metadata'])\n",
      "dict_keys(['id', 'type', 'content', 'metadata'])\n",
      "dict_keys(['id', 'type', 'content', 'metadata'])\n",
      "dict_keys(['id', 'type', 'content', 'metadata'])\n",
      "dict_keys(['id', 'type', 'content', 'metadata'])\n",
      "dict_keys(['id', 'type', 'content', 'metadata'])\n",
      "dict_keys(['id', 'type', 'content', 'metadata'])\n",
      "dict_keys(['id', 'type', 'content', 'metadata'])\n",
      "dict_keys(['id', 'type', 'content', 'metadata'])\n",
      "dict_keys(['id', 'type', 'content', 'metadata'])\n",
      "dict_keys(['id', 'type', 'content', 'metadata'])\n",
      "dict_keys(['id', 'type', 'content', 'metadata'])\n",
      "dict_keys(['id', 'type', 'content', 'metadata'])\n",
      "dict_keys(['id', 'type', 'content', 'metadata'])\n",
      "dict_keys(['id', 'type', 'content', 'metadata'])\n",
      "dict_keys(['id', 'type', 'content', 'metadata'])\n",
      "dict_keys(['id', 'type', 'content', 'metadata'])\n",
      "dict_keys(['id', 'type', 'content', 'metadata'])\n",
      "dict_keys(['id', 'type', 'content', 'metadata'])\n",
      "dict_keys(['id', 'type', 'content', 'metadata'])\n",
      "dict_keys(['id', 'type', 'content', 'metadata'])\n",
      "dict_keys(['id', 'type', 'content', 'metadata'])\n",
      "dict_keys(['id', 'type', 'content', 'metadata'])\n",
      "dict_keys(['id', 'type', 'content', 'metadata'])\n",
      "dict_keys(['id', 'type', 'content', 'metadata'])\n",
      "dict_keys(['id', 'type', 'content', 'metadata'])\n",
      "dict_keys(['id', 'type', 'content', 'metadata'])\n",
      "dict_keys(['id', 'type', 'content', 'metadata'])\n",
      "dict_keys(['id', 'type', 'content', 'metadata'])\n",
      "dict_keys(['id', 'type', 'content', 'metadata'])\n",
      "dict_keys(['id', 'type', 'content', 'metadata'])\n",
      "dict_keys(['id', 'type', 'content', 'metadata'])\n",
      "dict_keys(['id', 'type', 'content', 'metadata'])\n",
      "dict_keys(['id', 'type', 'content', 'metadata'])\n",
      "dict_keys(['id', 'type', 'content', 'metadata'])\n",
      "dict_keys(['id', 'type', 'content', 'metadata'])\n",
      "dict_keys(['id', 'type', 'content', 'metadata'])\n",
      "dict_keys(['id', 'type', 'content', 'metadata'])\n",
      "dict_keys(['id', 'type', 'content', 'metadata'])\n",
      "dict_keys(['id', 'type', 'content', 'metadata'])\n",
      "dict_keys(['id', 'type', 'content', 'metadata'])\n",
      "dict_keys(['id', 'type', 'content', 'metadata'])\n",
      "dict_keys(['id', 'type', 'content', 'metadata'])\n",
      "dict_keys(['id', 'type', 'content', 'metadata'])\n",
      "dict_keys(['id', 'type', 'content', 'metadata'])\n",
      "dict_keys(['id', 'type', 'content', 'metadata'])\n",
      "dict_keys(['id', 'type', 'content', 'metadata'])\n",
      "dict_keys(['id', 'type', 'content', 'metadata'])\n",
      "dict_keys(['id', 'type', 'content', 'metadata'])\n",
      "dict_keys(['id', 'type', 'content', 'metadata'])\n",
      "dict_keys(['id', 'type', 'content', 'metadata'])\n",
      "dict_keys(['id', 'type', 'content', 'metadata'])\n",
      "dict_keys(['id', 'type', 'content', 'metadata'])\n",
      "dict_keys(['id', 'type', 'content', 'metadata'])\n",
      "dict_keys(['id', 'type', 'content', 'metadata'])\n",
      "dict_keys(['id', 'type', 'content', 'metadata'])\n",
      "dict_keys(['id', 'type', 'content', 'metadata'])\n",
      "dict_keys(['id', 'type', 'content', 'metadata'])\n",
      "dict_keys(['id', 'type', 'content', 'metadata'])\n",
      "dict_keys(['id', 'type', 'content', 'metadata'])\n",
      "dict_keys(['id', 'type', 'content', 'metadata'])\n",
      "dict_keys(['id', 'type', 'content', 'metadata'])\n",
      "dict_keys(['id', 'type', 'content', 'metadata'])\n",
      "dict_keys(['id', 'type', 'content', 'metadata'])\n",
      "dict_keys(['id', 'type', 'content', 'metadata'])\n",
      "dict_keys(['id', 'type', 'content', 'metadata'])\n",
      "dict_keys(['id', 'type', 'content', 'metadata'])\n",
      "dict_keys(['id', 'type', 'content', 'metadata'])\n",
      "dict_keys(['id', 'type', 'content', 'metadata'])\n",
      "dict_keys(['id', 'type', 'content', 'metadata'])\n",
      "dict_keys(['id', 'type', 'content', 'metadata'])\n",
      "dict_keys(['id', 'type', 'content', 'metadata'])\n",
      "dict_keys(['id', 'type', 'content', 'metadata'])\n",
      "dict_keys(['id', 'type', 'content', 'metadata'])\n",
      "dict_keys(['id', 'type', 'content', 'metadata'])\n",
      "dict_keys(['id', 'type', 'content', 'metadata'])\n",
      "dict_keys(['id', 'type', 'content', 'metadata'])\n",
      "dict_keys(['id', 'type', 'content', 'metadata'])\n",
      "dict_keys(['id', 'type', 'content', 'metadata'])\n",
      "dict_keys(['id', 'type', 'content', 'metadata'])\n",
      "dict_keys(['id', 'type', 'content', 'metadata'])\n",
      "dict_keys(['id', 'type', 'content', 'metadata'])\n",
      "dict_keys(['id', 'type', 'content', 'metadata'])\n",
      "dict_keys(['id', 'type', 'content', 'metadata'])\n",
      "dict_keys(['id', 'type', 'content', 'metadata'])\n",
      "dict_keys(['id', 'type', 'content', 'metadata'])\n",
      "dict_keys(['id', 'type', 'content', 'metadata'])\n",
      "dict_keys(['id', 'type', 'content', 'metadata'])\n",
      "dict_keys(['id', 'type', 'content', 'metadata'])\n",
      "dict_keys(['id', 'type', 'content', 'metadata'])\n",
      "dict_keys(['id', 'type', 'content', 'metadata'])\n",
      "dict_keys(['id', 'type', 'content', 'metadata'])\n",
      "dict_keys(['id', 'type', 'content', 'metadata'])\n",
      "dict_keys(['id', 'type', 'content', 'metadata'])\n",
      "dict_keys(['id', 'type', 'content', 'metadata'])\n",
      "dict_keys(['id', 'type', 'content', 'metadata'])\n",
      "dict_keys(['id', 'type', 'content', 'metadata'])\n",
      "dict_keys(['id', 'type', 'content', 'metadata'])\n",
      "dict_keys(['id', 'type', 'content', 'metadata'])\n",
      "dict_keys(['id', 'type', 'content', 'metadata'])\n",
      "dict_keys(['id', 'type', 'content', 'metadata'])\n",
      "dict_keys(['id', 'type', 'content', 'metadata'])\n",
      "dict_keys(['id', 'type', 'content', 'metadata'])\n",
      "dict_keys(['id', 'type', 'content', 'metadata'])\n",
      "dict_keys(['id', 'type', 'content', 'metadata'])\n",
      "dict_keys(['id', 'type', 'content', 'metadata'])\n",
      "dict_keys(['id', 'type', 'content', 'metadata'])\n",
      "dict_keys(['id', 'type', 'content', 'metadata'])\n",
      "dict_keys(['id', 'type', 'content', 'metadata'])\n",
      "dict_keys(['id', 'type', 'content', 'metadata'])\n",
      "dict_keys(['id', 'type', 'content', 'metadata'])\n",
      "dict_keys(['id', 'type', 'content', 'metadata'])\n",
      "dict_keys(['id', 'type', 'content', 'metadata'])\n",
      "dict_keys(['id', 'type', 'content', 'metadata'])\n",
      "dict_keys(['id', 'type', 'content', 'metadata'])\n",
      "dict_keys(['id', 'type', 'content', 'metadata'])\n",
      "dict_keys(['id', 'type', 'content', 'metadata'])\n",
      "dict_keys(['id', 'type', 'content', 'metadata'])\n",
      "dict_keys(['id', 'type', 'content', 'metadata'])\n",
      "dict_keys(['id', 'type', 'content', 'metadata'])\n",
      "dict_keys(['id', 'type', 'content', 'metadata'])\n",
      "dict_keys(['id', 'type', 'content', 'metadata'])\n",
      "dict_keys(['id', 'type', 'content', 'metadata'])\n",
      "dict_keys(['id', 'type', 'content', 'metadata'])\n",
      "dict_keys(['id', 'type', 'content', 'metadata'])\n",
      "dict_keys(['id', 'type', 'content', 'metadata'])\n",
      "dict_keys(['id', 'type', 'content', 'metadata'])\n",
      "dict_keys(['id', 'type', 'content', 'metadata'])\n",
      "dict_keys(['id', 'type', 'content', 'metadata'])\n",
      "dict_keys(['id', 'type', 'content', 'metadata', 'payloads'])\n",
      "dict_keys(['id', 'type', 'content', 'metadata'])\n",
      "dict_keys(['id', 'type', 'content', 'metadata'])\n",
      "dict_keys(['id', 'type', 'content', 'metadata'])\n",
      "dict_keys(['id', 'type', 'content', 'metadata'])\n",
      "dict_keys(['id', 'type', 'content', 'metadata', 'payloads'])\n",
      "dict_keys(['id', 'type', 'content', 'metadata'])\n",
      "dict_keys(['id', 'type', 'content', 'metadata'])\n",
      "dict_keys(['id', 'type', 'content', 'metadata'])\n",
      "dict_keys(['id', 'type', 'content', 'metadata'])\n",
      "dict_keys(['id', 'type', 'content', 'metadata'])\n",
      "dict_keys(['id', 'type', 'content', 'metadata'])\n",
      "dict_keys(['id', 'type', 'content', 'metadata'])\n",
      "dict_keys(['id', 'type', 'content', 'metadata'])\n",
      "dict_keys(['id', 'type', 'content', 'metadata'])\n",
      "dict_keys(['id', 'type', 'content', 'metadata'])\n",
      "dict_keys(['id', 'type', 'content', 'metadata'])\n",
      "dict_keys(['id', 'type', 'content', 'metadata'])\n",
      "dict_keys(['id', 'type', 'content', 'metadata'])\n",
      "dict_keys(['id', 'type', 'content', 'metadata'])\n",
      "dict_keys(['id', 'type', 'content', 'metadata'])\n",
      "dict_keys(['id', 'type', 'content', 'metadata'])\n",
      "dict_keys(['id', 'type', 'content', 'metadata'])\n",
      "dict_keys(['id', 'type', 'content', 'metadata'])\n",
      "dict_keys(['id', 'type', 'content', 'metadata'])\n",
      "dict_keys(['id', 'type', 'content', 'metadata'])\n",
      "dict_keys(['id', 'type', 'content', 'metadata'])\n",
      "dict_keys(['id', 'type', 'content', 'metadata'])\n",
      "dict_keys(['id', 'type', 'content', 'metadata'])\n",
      "dict_keys(['id', 'type', 'content', 'metadata'])\n",
      "dict_keys(['id', 'type', 'content', 'metadata'])\n",
      "dict_keys(['id', 'type', 'content', 'metadata'])\n",
      "dict_keys(['id', 'type', 'content', 'metadata'])\n",
      "dict_keys(['id', 'type', 'content', 'metadata'])\n",
      "dict_keys(['id', 'type', 'content', 'metadata'])\n",
      "dict_keys(['id', 'type', 'content', 'metadata'])\n",
      "dict_keys(['id', 'type', 'content', 'metadata'])\n",
      "dict_keys(['id', 'type', 'content', 'metadata', 'payloads'])\n",
      "dict_keys(['id', 'type', 'content', 'metadata'])\n",
      "dict_keys(['id', 'type', 'content', 'metadata'])\n",
      "dict_keys(['id', 'type', 'content', 'metadata'])\n",
      "dict_keys(['id', 'type', 'content', 'metadata'])\n",
      "dict_keys(['id', 'type', 'content', 'metadata'])\n",
      "dict_keys(['id', 'type', 'content', 'metadata'])\n",
      "dict_keys(['id', 'type', 'content', 'metadata'])\n",
      "dict_keys(['id', 'type', 'content', 'metadata', 'payloads'])\n",
      "dict_keys(['id', 'type', 'content', 'metadata'])\n",
      "dict_keys(['id', 'type', 'content', 'metadata'])\n",
      "dict_keys(['id', 'type', 'content', 'metadata'])\n",
      "dict_keys(['id', 'type', 'content', 'metadata'])\n",
      "dict_keys(['id', 'type', 'content', 'metadata'])\n",
      "dict_keys(['id', 'type', 'content', 'metadata'])\n",
      "dict_keys(['id', 'type', 'content', 'metadata'])\n",
      "dict_keys(['id', 'type', 'content', 'metadata'])\n",
      "dict_keys(['id', 'type', 'content', 'metadata'])\n",
      "dict_keys(['id', 'type', 'content', 'metadata'])\n",
      "dict_keys(['id', 'type', 'content', 'metadata'])\n",
      "dict_keys(['id', 'type', 'content', 'metadata'])\n",
      "dict_keys(['id', 'type', 'content', 'metadata'])\n",
      "dict_keys(['id', 'type', 'content', 'metadata'])\n",
      "dict_keys(['id', 'type', 'content', 'metadata'])\n",
      "dict_keys(['id', 'type', 'content', 'metadata'])\n",
      "dict_keys(['id', 'type', 'content', 'metadata'])\n",
      "dict_keys(['id', 'type', 'content', 'metadata'])\n",
      "dict_keys(['id', 'type', 'content', 'metadata'])\n"
     ]
    }
   ],
   "source": [
    "myObjects = materialhub.find(f'/metadata/createBy:_\"{my_id}\"', full=True)['results']\n",
    "print('\\n'.join([str(r.keys()) for r in myObjects]))"
   ]
  },
  {
   "cell_type": "code",
   "execution_count": 45,
   "id": "899b9229",
   "metadata": {},
   "outputs": [],
   "source": [
    "dataset = Dataset(client=materialhub)\n",
    "\n",
    "ds = dataset.add('Dataset', properties={'name':'2_phase_elastic_CR50'})"
   ]
  },
  {
   "cell_type": "code",
   "execution_count": 46,
   "id": "49dd4171",
   "metadata": {},
   "outputs": [],
   "source": [
    "#defining terms for the properties\n",
    "#TODO add definitions and more specifics\n",
    "YM_term = dataset.add('DefinedTerm', properties={'name':'Young\\'s Modulus'})\n",
    "PR_term = dataset.add('DefinedTerm', properties={'name':'Poisson Ratio'})\n",
    "effective_property = dataset.add('DefinedTerm', properties={'name':'Effective Property'})\n",
    "broad_mat_term = dataset.add('DefinedTerm', properties={'name':'Two Phase Material'})\n",
    "\n",
    "#defining the material properties by using the DF, values, and units\n",
    "m1_ym = dataset.add('MaterialProperty', properties={'PropertyID':YM_term, 'name':YM_term.properties['name'], 'value':'120'})\n",
    "m1_pr = dataset.add('MaterialProperty', properties={'PropertyID':PR_term, 'name':PR_term.properties['name'], 'value':'0.3'})\n",
    "                                                                          \n",
    "m2_ym = dataset.add('MaterialProperty', properties={'PropertyID':YM_term, 'name':YM_term.properties['name'], 'value':'6,000'})\n",
    "m2_pr = dataset.add('MaterialProperty', properties={'PropertyID':PR_term, 'name':PR_term.properties['name'], 'value':'0.3'})"
   ]
  },
  {
   "cell_type": "code",
   "execution_count": 47,
   "id": "55457c6b",
   "metadata": {},
   "outputs": [],
   "source": [
    "mat1 = dataset.add('Material', properties={'name':'Low Stiffness Material', 'about':[m1_ym.properties['@id'], m1_pr.properties['@id']]})\n",
    "mat2 = dataset.add('Material', properties={'name':'High Stiffness Material', 'about':[m2_ym.properties['@id'], m2_pr.properties['@id']]})"
   ]
  },
  {
   "cell_type": "code",
   "execution_count": 48,
   "id": "2b39e6cc",
   "metadata": {},
   "outputs": [],
   "source": [
    "broad_material = dataset.add('Material', properties={'PropertyID':broad_mat_term,'name':'2 Phase Material', 'about':[mat1.properties['@id'], mat2.properties['@id']]})"
   ]
  },
  {
   "cell_type": "code",
   "execution_count": 49,
   "id": "26938771",
   "metadata": {},
   "outputs": [],
   "source": [
    "val = 1/10\n",
    "eff_prop = dataset.add('MaterialProperty', properties={'PropertyID':effective_property, 'name':effective_property.properties['name']+f'={val}', 'value':f'{val}'})\n",
    "narrow_mat_term = dataset.add('DefinedTerm', properties={'name':f'Two Phase - Effective stiffness: {val}', 'broader':[broad_mat_term.properties['@id']]})\n",
    "                                                       \n",
    "narrow_material = dataset.add('Material', properties={'PropertyID':narrow_mat_term, 'name':narrow_mat_term.properties['name'], 'about':[mat1.properties['@id'], mat2.properties['@id'], eff_prop.properties['@id']]})"
   ]
  },
  {
   "cell_type": "code",
   "execution_count": 55,
   "id": "eb86c66d",
   "metadata": {},
   "outputs": [
    {
     "data": {
      "text/plain": [
       "True"
      ]
     },
     "execution_count": 55,
     "metadata": {},
     "output_type": "execute_result"
    }
   ],
   "source": []
  },
  {
   "cell_type": "code",
   "execution_count": 8,
   "id": "a494a5b8",
   "metadata": {},
   "outputs": [],
   "source": [
    "structure = dataset.add('MaterialStructure', properties={'name':'test structure','material':[broad_material.properties['@id'], narrow_material.properties['@id']]}, payloads={'structure':BytesIO(m).getvalue()})"
   ]
  },
  {
   "cell_type": "code",
   "execution_count": 11,
   "id": "eec514e5",
   "metadata": {},
   "outputs": [],
   "source": [
    "stress_field = dataset.add('DefinedTerm', properties={'name':'Stress_Field', 'description':'An array of stress states in each voxel of your domain'})\n",
    "strain_field = dataset.add('DefinedTerm', properties={'name':'Strain_Field'})\n",
    "\n",
    "stress_result = dataset.add('MaterialProperty', properties={'propertpyID':stress_field, 'material':[broad_material.properties['@id'], narrow_material.properties['@id']]}, payloads={'value':BytesIO(p).getvalue()})\n",
    "strain_result = dataset.add('MaterialProperty', properties={'propertpyID':strain_field, 'material':[broad_material.properties['@id'], narrow_material.properties['@id']]}, payloads={'value':BytesIO(p).getvalue()})"
   ]
  },
  {
   "cell_type": "code",
   "execution_count": 13,
   "id": "35e6f748",
   "metadata": {},
   "outputs": [],
   "source": [
    "#define abaqus\n",
    "abaqus_term = dataset.add('DefinedTerm', properties={'name':'abaqus', 'description':'Finite Element Solver'})\n",
    "abaqus = dataset.add('SoftwareApplication', properties={'propertyID':abaqus_term})\n",
    "\n",
    "\n",
    "fem = dataset.add('Action', properties={'agent':[abaqus.properties['@id']], 'object':[structure.properties['@id']], 'result':[stress_result.properties['@id'], strain_result.properties['@id']]})\n",
    "\n",
    "\n",
    "#define python\n",
    "python_term = dataset.add('DefinedTerm', properties={'name':'python', 'description':'programming language'})\n",
    "python = dataset.add('SoftwareApplication', properties={'propertyID':python_term})\n",
    "\n",
    "eff_stiff = dataset.add('Action', properties={'agent':[python.properties['@id']], 'object':[stress_result.properties['@id'], strain_result.properties['@id']], 'result':[narrow_material.properties['@id']] })\n",
    "\n",
    "\n",
    "\n"
   ]
  },
  {
   "cell_type": "code",
   "execution_count": 35,
   "id": "7a724b45",
   "metadata": {},
   "outputs": [],
   "source": [
    "import h5py\n",
    "import os\n",
    "\n",
    "cwd = os.getcwd()\n",
    "\n",
    "train_r = os.path.join(cwd, '..', '..', '..', 'Elastic_Localization_Data', 'cr_50_full', '31_c50_train_responses.h5')\n",
    "train_m = os.path.join(cwd, '..', '..', '..', 'Elastic_Localization_Data', 'cr_50_full', '31_c50_train_micros.h5')\n",
    "\n",
    "train_m = h5py.File(train_m)\n",
    "train_r = h5py.File(train_r)\n",
    "\n",
    "\n",
    "m = train_m['micros']\n",
    "train_stress = train_r['stress']\n",
    "train_strain = train_r['strain']\n",
    "\n",
    "avg_stress = np.sum(train_stress, axis=1) / 31**3\n",
    "avg_strain = np.sum(train_strain, axis=1) / 31**3\n",
    "\n",
    "dp = len(avg_stress)"
   ]
  },
  {
   "cell_type": "code",
   "execution_count": 37,
   "id": "d40bb94f",
   "metadata": {},
   "outputs": [
    {
     "data": {
      "text/plain": [
       "array([ 3.32984945,  0.90224451,  0.86666594,  0.04540909, -0.08411627,\n",
       "        0.05960775])"
      ]
     },
     "execution_count": 37,
     "metadata": {},
     "output_type": "execute_result"
    }
   ],
   "source": [
    "avg_stress[0]"
   ]
  },
  {
   "cell_type": "code",
   "execution_count": 40,
   "id": "f8d4ff9c",
   "metadata": {},
   "outputs": [
    {
     "data": {
      "text/plain": [
       "3330.0"
      ]
     },
     "execution_count": 40,
     "metadata": {},
     "output_type": "execute_result"
    }
   ],
   "source": [
    "eff_p = (avg_stress[0] / avg_strain[0])[0].round()\n",
    "eff_p"
   ]
  },
  {
   "cell_type": "code",
   "execution_count": 32,
   "id": "55abd3c8",
   "metadata": {},
   "outputs": [],
   "source": [
    "\n",
    "for i in range(dp):\n",
    "    eff_p = (avg_stress / avg_strain)[:,0].round()"
   ]
  },
  {
   "cell_type": "code",
   "execution_count": 33,
   "id": "dcd7e260",
   "metadata": {},
   "outputs": [
    {
     "data": {
      "text/plain": [
       "array([3330., 1963., 3292., 1175.,  180.,  573., 1932., 2797.,  182.,\n",
       "       3015.])"
      ]
     },
     "execution_count": 33,
     "metadata": {},
     "output_type": "execute_result"
    }
   ],
   "source": [
    "eff_p"
   ]
  },
  {
   "cell_type": "code",
   "execution_count": 34,
   "id": "be8ec003",
   "metadata": {},
   "outputs": [
    {
     "name": "stdout",
     "output_type": "stream",
     "text": [
      "10\n"
     ]
    }
   ],
   "source": [
    "\n",
    "print(dp)"
   ]
  },
  {
   "cell_type": "code",
   "execution_count": null,
   "id": "b73c4e4a",
   "metadata": {},
   "outputs": [],
   "source": []
  }
 ],
 "metadata": {
  "kernelspec": {
   "display_name": "mat_inf",
   "language": "python",
   "name": "mat_inf"
  },
  "language_info": {
   "codemirror_mode": {
    "name": "ipython",
    "version": 3
   },
   "file_extension": ".py",
   "mimetype": "text/x-python",
   "name": "python",
   "nbconvert_exporter": "python",
   "pygments_lexer": "ipython3",
   "version": "3.9.6"
  }
 },
 "nbformat": 4,
 "nbformat_minor": 5
}
